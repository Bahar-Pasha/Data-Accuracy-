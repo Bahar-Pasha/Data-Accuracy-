{
 "cells": [
  {
   "cell_type": "code",
   "execution_count": 4,
   "id": "94c31956",
   "metadata": {},
   "outputs": [
    {
     "name": "stdout",
     "output_type": "stream",
     "text": [
      "Number of rows: 17862\n"
     ]
    }
   ],
   "source": [
    "\n",
    "# Importing required libraries\n",
    "import pandas as pd\n",
    "import numpy as np\n",
    "\n",
    "# Reading the Excel file into a DataFrame\n",
    "path = r\"C:\\Users\\B.Pashazanosi\\Desktop\\Project\\Goldiran Media\\Data Accuracy\\Data Accuracy .xlsx\"\n",
    "df = pd.read_excel(path)\n",
    "\n",
    "# Function to calculate the number of rows in the DataFrame\n",
    "row_count = df.shape[0]\n",
    "print(\"Number of rows:\", row_count)"
   ]
  },
  {
   "cell_type": "code",
   "execution_count": 5,
   "id": "9c8b0adc",
   "metadata": {},
   "outputs": [
    {
     "name": "stdout",
     "output_type": "stream",
     "text": [
      "Number of rows with DateDiff > 60 minutes: 18\n"
     ]
    }
   ],
   "source": [
    "# Function to calculate the number of rows where the time difference exceeds 60 minutes\n",
    "def calculate_date_diff(df):\n",
    "    df['Checkout Time'] = pd.to_datetime(df['Checkout Time'])\n",
    "    df['Checkin Time'] = pd.to_datetime(df['Checkin Time'])\n",
    "    df['DateDiff'] = (df['Checkout Time'] - df['Checkin Time']).dt.total_seconds() / 60\n",
    "    count = df[df['DateDiff'] > 60].shape[0]\n",
    "    return count\n",
    "\n",
    "# Calculating and printing the number of rows where DateDiff is greater than 60 minutes\n",
    "count = calculate_date_diff(df)\n",
    "print(\"Number of rows with DateDiff > 60 minutes:\", count)"
   ]
  },
  {
   "cell_type": "code",
   "execution_count": 6,
   "id": "fb6bfc52",
   "metadata": {},
   "outputs": [
    {
     "name": "stdout",
     "output_type": "stream",
     "text": [
      "Number of characters smaller than 5: 216\n"
     ]
    }
   ],
   "source": [
    "# Function to process the DataFrame by concatenating specific columns and calculating string length\n",
    "def process_dataframe(df):\n",
    "    columns_to_concat = ['Voice Dealer 1', 'Voice Dealer 2', 'Voice Dealer 3', 'Voice Dealer 4']\n",
    "\n",
    "    filtered_df = df[df['Task id'] == 11]\n",
    "\n",
    "    nan_mask = filtered_df[columns_to_concat].apply(lambda x: np.all(pd.isna(x)), axis=1)\n",
    "    filtered_df = filtered_df[~nan_mask]\n",
    "\n",
    "    filtered_df['Concatenated'] = filtered_df[columns_to_concat].astype(str).apply(lambda x: ' '.join(filter(None, x)), axis=1)\n",
    "    filtered_df['Concatenated'] = filtered_df['Concatenated'].str.replace('nan', '')\n",
    "    filtered_df['Concatenated'] = filtered_df['Concatenated'].str.strip()\n",
    "    filtered_df['Length'] = filtered_df['Concatenated'].str.len()\n",
    "    return filtered_df\n",
    "\n",
    "# Processing the DataFrame and calculating the number of strings with length less than or equal to 5\n",
    "processed_df = process_dataframe(df)\n",
    "count_greater_than_5 = (processed_df['Length'] <= 5).sum()\n",
    "print(\"Number of characters smaller than 5:\",count_greater_than_5)\n"
   ]
  },
  {
   "cell_type": "code",
   "execution_count": 7,
   "id": "b274c28b",
   "metadata": {},
   "outputs": [
    {
     "name": "stdout",
     "output_type": "stream",
     "text": [
      "Number of prices below 1,000,000: 1\n"
     ]
    }
   ],
   "source": [
    "# Function to count the number of rows where the price is below 1,000,000\n",
    "def price_control(df):\n",
    "    filtered_df = df[df['Task id'] == 3] \n",
    "    filtered_df = df[df['قیمت فروش به مصرف کننده'] < 1000000]\n",
    "    count = filtered_df.shape[0]\n",
    "    return count\n",
    "       \n",
    "# Calculating and printing the number of rows where price is below 1,000,000\n",
    "count = price_control(df) \n",
    "print(\"Number of prices below 1,000,000:\",count)"
   ]
  },
  {
   "cell_type": "code",
   "execution_count": null,
   "id": "162df239",
   "metadata": {},
   "outputs": [],
   "source": []
  }
 ],
 "metadata": {
  "kernelspec": {
   "display_name": "Python 3 (ipykernel)",
   "language": "python",
   "name": "python3"
  },
  "language_info": {
   "codemirror_mode": {
    "name": "ipython",
    "version": 3
   },
   "file_extension": ".py",
   "mimetype": "text/x-python",
   "name": "python",
   "nbconvert_exporter": "python",
   "pygments_lexer": "ipython3",
   "version": "3.10.9"
  }
 },
 "nbformat": 4,
 "nbformat_minor": 5
}
